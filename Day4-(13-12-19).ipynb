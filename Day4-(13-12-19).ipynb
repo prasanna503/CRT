{
 "cells": [
  {
   "cell_type": "markdown",
   "metadata": {},
   "source": [
    "# Jupyter Markdown\n",
    "## Jupytar Markdown\n",
    "### Jupytar Markdown\n",
    "#### Jupyter Markdown\n",
    "##### Jupyter Markdown\n",
    "###### Jupyter Markdown"
   ]
  },
  {
   "cell_type": "markdown",
   "metadata": {},
   "source": [
    "- Point 1\n",
    "   - **Sub Point 1.1**\n",
    "   - *Sub Point 1.2*\n",
    "   - ***Sub Point 1.3***\n",
    "- Point 2\n",
    "- Point 3"
   ]
  },
  {
   "cell_type": "markdown",
   "metadata": {},
   "source": [
    "### Python Introduction\n",
    "- Python 3\n",
    "- Python can be used as functional programming.\n",
    "- Python can be used as scripting programming.\n",
    "- Pyhton initially designed by **Guido Yan Rossman** in 1991."
   ]
  },
  {
   "cell_type": "code",
   "execution_count": 9,
   "metadata": {},
   "outputs": [
    {
     "name": "stdout",
     "output_type": "stream",
     "text": [
      "Hello World\n",
      "Welcome to Python programming\n"
     ]
    }
   ],
   "source": [
    "# Input and Output Function\n",
    "# Output Function\n",
    "print(\"Hello World\")\n",
    "print(\"Welcome to Python programming\")"
   ]
  },
  {
   "cell_type": "code",
   "execution_count": 6,
   "metadata": {},
   "outputs": [
    {
     "name": "stdout",
     "output_type": "stream",
     "text": [
      "markdon cellcode cell\n"
     ]
    }
   ],
   "source": [
    "print(\"markdon cell\",end =' ')\n",
    "print(\"code cell\")"
   ]
  },
  {
   "cell_type": "code",
   "execution_count": 7,
   "metadata": {},
   "outputs": [
    {
     "name": "stdout",
     "output_type": "stream",
     "text": [
      "enter your name\n",
      "prasanna\n",
      "your name is prasanna\n"
     ]
    }
   ],
   "source": [
    "# input function\n",
    "print(\"enter your name\")\n",
    "a = input('')\n",
    "print('your name is',a)"
   ]
  },
  {
   "cell_type": "markdown",
   "metadata": {},
   "source": [
    "### inserting an image markdown\n",
    "![image](https://images.unsplash.com/photo-1503803548695-c2a7b4a5b875?ixlib=rb-1.2.1&w=1000&q=80)"
   ]
  },
  {
   "cell_type": "markdown",
   "metadata": {},
   "source": [
    "## inserting a site using markdown\n",
    "[site](https://www.google.com/search?q=sunset&source=lnms&tbm=isch&sa=X&ved=2ahUKEwjmwo7m67HmAhUH4jgGHXg6AcIQ_AUoAXoECBMQAw&biw=1229&bih=564)"
   ]
  },
  {
   "cell_type": "markdown",
   "metadata": {},
   "source": [
    "# Fundamental data types"
   ]
  },
  {
   "cell_type": "markdown",
   "metadata": {},
   "source": [
    "### 1. *int* \n",
    "### 2  *float*\n",
    "### 3. *complex*\n",
    "### 4. *boolean*\n",
    "### 5. *string*"
   ]
  },
  {
   "cell_type": "code",
   "execution_count": 8,
   "metadata": {},
   "outputs": [
    {
     "name": "stdout",
     "output_type": "stream",
     "text": [
      "<class 'int'>\n",
      "10\n"
     ]
    }
   ],
   "source": [
    "#basic example\n",
    "x=10\n",
    "print(type(x))\n",
    "print(x)"
   ]
  },
  {
   "cell_type": "code",
   "execution_count": 10,
   "metadata": {},
   "outputs": [
    {
     "name": "stdout",
     "output_type": "stream",
     "text": [
      "(5+4j)\n"
     ]
    }
   ],
   "source": [
    "a = complex(5,4)\n",
    "print(a)"
   ]
  },
  {
   "cell_type": "code",
   "execution_count": 12,
   "metadata": {},
   "outputs": [
    {
     "name": "stdout",
     "output_type": "stream",
     "text": [
      "<class 'complex'>\n",
      "<class 'float'>\n",
      "<class 'int'>\n"
     ]
    }
   ],
   "source": [
    "x = 3+3j\n",
    "y = 10.25\n",
    "z = 10\n",
    "print(type(x))\n",
    "print(type(y))\n",
    "print(type(z))"
   ]
  },
  {
   "cell_type": "code",
   "execution_count": 14,
   "metadata": {},
   "outputs": [
    {
     "name": "stdout",
     "output_type": "stream",
     "text": [
      "<class 'complex'> <class 'float'> <class 'int'>\n"
     ]
    }
   ],
   "source": [
    "x = 3+5j\n",
    "y = 10.25\n",
    "z = 10\n",
    "print(type(x),type(y),type(z))"
   ]
  },
  {
   "cell_type": "code",
   "execution_count": 15,
   "metadata": {},
   "outputs": [
    {
     "name": "stdout",
     "output_type": "stream",
     "text": [
      "(9+11j)\n",
      "(1+1j)\n",
      "(-10+49j)\n"
     ]
    }
   ],
   "source": [
    "c1= 5+6j\n",
    "c2= 4+5j\n",
    "print(c1+c2)\n",
    "print(c1-c2)\n",
    "print(c1*c2)"
   ]
  },
  {
   "cell_type": "code",
   "execution_count": 21,
   "metadata": {},
   "outputs": [
    {
     "data": {
      "text/plain": [
       "True"
      ]
     },
     "execution_count": 21,
     "metadata": {},
     "output_type": "execute_result"
    }
   ],
   "source": [
    "a = 10 #boolean\n",
    "b = 5\n",
    "a > b"
   ]
  },
  {
   "cell_type": "code",
   "execution_count": 22,
   "metadata": {},
   "outputs": [
    {
     "name": "stdout",
     "output_type": "stream",
     "text": [
      "<class 'str'>\n",
      "<class 'str'>\n"
     ]
    }
   ],
   "source": [
    "#string\n",
    "s1 = \"abc\"\n",
    "s2 = \"xyz\"\n",
    "print(type(s1))\n",
    "print(type(s2))"
   ]
  },
  {
   "cell_type": "code",
   "execution_count": 23,
   "metadata": {},
   "outputs": [
    {
     "name": "stdout",
     "output_type": "stream",
     "text": [
      "<class 'str'>\n"
     ]
    }
   ],
   "source": [
    "s1 = \"100\"\n",
    "print(type(s1))"
   ]
  },
  {
   "cell_type": "code",
   "execution_count": 25,
   "metadata": {},
   "outputs": [
    {
     "name": "stdout",
     "output_type": "stream",
     "text": [
      "<class 'str'>\n"
     ]
    }
   ],
   "source": [
    "i = \"100\"\n",
    "print(type(i))\n",
    "s1 "
   ]
  },
  {
   "cell_type": "markdown",
   "metadata": {},
   "source": [
    "# Datatype conversions"
   ]
  },
  {
   "cell_type": "code",
   "execution_count": 28,
   "metadata": {},
   "outputs": [
    {
     "name": "stdout",
     "output_type": "stream",
     "text": [
      "<class 'str'>\n",
      "<class 'str'>\n",
      "<class 'float'>\n"
     ]
    }
   ],
   "source": [
    "i=\"100\"\n",
    "print(type(i))\n",
    "s1 = str(i)  #str() converts input input into string type\n",
    "print(type(s1))\n",
    "f1 = float(i) #float() converts input into float type\n",
    "print(type(f1))"
   ]
  },
  {
   "cell_type": "code",
   "execution_count": 31,
   "metadata": {},
   "outputs": [
    {
     "name": "stdout",
     "output_type": "stream",
     "text": [
      "<class 'str'>\n",
      "<class 'int'>\n",
      "<class 'int'>\n",
      "2\n"
     ]
    }
   ],
   "source": [
    "s1 =\"200\"\n",
    "print(type(s1)) \n",
    "b = int(s1)\n",
    "print(type(a))\n",
    "f = 2.5\n",
    "a = int(f)\n",
    "print(type(a))\n",
    "print(a)"
   ]
  },
  {
   "cell_type": "code",
   "execution_count": 32,
   "metadata": {},
   "outputs": [
    {
     "name": "stdout",
     "output_type": "stream",
     "text": [
      "5\n"
     ]
    }
   ],
   "source": [
    "# a number is given 23456\n",
    "#digit count\n",
    "s = 23456\n",
    "print(len(str(s)))"
   ]
  },
  {
   "cell_type": "markdown",
   "metadata": {},
   "source": [
    "# Operators\n",
    "### 1. Arithematic operator---->+,-, * ,/,//,%, **\n",
    "### 2. logical operators---------> and,or,not\n",
    "### 3. relational operators-----> <,>,<=,>=,==,!=\n",
    "### 4. membership operators-> in,Not in"
   ]
  },
  {
   "cell_type": "code",
   "execution_count": 35,
   "metadata": {},
   "outputs": [
    {
     "name": "stdout",
     "output_type": "stream",
     "text": [
      "30\n",
      "10\n",
      "200\n",
      "2.0\n",
      "2\n",
      "0\n",
      "10240000000000\n"
     ]
    }
   ],
   "source": [
    "#arithematic operators\n",
    "a =20\n",
    "b =10\n",
    "print(a+b)\n",
    "print(a-b)\n",
    "print(a*b)\n",
    "print(a/b)\n",
    "print(a//b)\n",
    "print(a%b)\n",
    "print(a**b)\n"
   ]
  },
  {
   "cell_type": "code",
   "execution_count": 36,
   "metadata": {},
   "outputs": [
    {
     "name": "stdout",
     "output_type": "stream",
     "text": [
      "False\n",
      "True\n",
      "False\n",
      "True\n"
     ]
    }
   ],
   "source": [
    "#relational operators\n",
    "x = 30\n",
    "y = 10\n",
    "print(x==y)\n",
    "print(x!=y)\n",
    "print(x<y)\n",
    "print(x>y)"
   ]
  },
  {
   "cell_type": "code",
   "execution_count": 37,
   "metadata": {},
   "outputs": [
    {
     "name": "stdout",
     "output_type": "stream",
     "text": [
      "True\n",
      "True\n",
      "False\n"
     ]
    }
   ],
   "source": [
    "#logical operators\n",
    "x = 20\n",
    "y = 30\n",
    "print(x>=10 and x<=20)\n",
    "print(x>=5 and x<=20)\n",
    "print(not x)"
   ]
  },
  {
   "cell_type": "code",
   "execution_count": 40,
   "metadata": {},
   "outputs": [
    {
     "name": "stdout",
     "output_type": "stream",
     "text": [
      "True\n",
      "False\n",
      "True\n"
     ]
    }
   ],
   "source": [
    "#membership operators\n",
    "str1=\"abc\"\n",
    "print('a' in str1)\n",
    "print('a' not in str1)\n",
    "print('d' not in str1)"
   ]
  },
  {
   "cell_type": "markdown",
   "metadata": {},
   "source": [
    "# Conditional Statements:\n",
    "- 1. if\n",
    "- 2. elif\n",
    "- 3. else if\n",
    "\n",
    "## syntax\n",
    "\n",
    "- if condition:\n",
    "\n",
    "#### statements\n",
    "\n",
    "- elif conditins:\n",
    "\n",
    "#### statements\n",
    "\n",
    "- else conditions:\n",
    "\n",
    "#### statements"
   ]
  },
  {
   "cell_type": "code",
   "execution_count": 46,
   "metadata": {},
   "outputs": [
    {
     "name": "stdout",
     "output_type": "stream",
     "text": [
      "enter the number:2\n",
      "Even\n"
     ]
    }
   ],
   "source": [
    "# To check given number is even or odd\n",
    "n = int(input(\"enter the number:\"))\n",
    "if n%2 ==0:\n",
    "    print(\"Even\")\n",
    "else:\n",
    "    print(\"Odd\")"
   ]
  },
  {
   "cell_type": "code",
   "execution_count": 47,
   "metadata": {},
   "outputs": [
    {
     "name": "stdout",
     "output_type": "stream",
     "text": [
      "enter the number:15\n",
      "yes\n"
     ]
    }
   ],
   "source": [
    "# To check given numvber is perfectly multiple of 3 and 5 \n",
    "n = int(input(\"enter the number:\"))\n",
    "if n%3 ==0 and n%5 ==0:\n",
    "    print(\"yes\")\n",
    "else:\n",
    "    print(\"no\")"
   ]
  },
  {
   "cell_type": "code",
   "execution_count": 54,
   "metadata": {},
   "outputs": [
    {
     "name": "stdout",
     "output_type": "stream",
     "text": [
      "enter the number:2\n",
      "positive\n"
     ]
    }
   ],
   "source": [
    "# To check the given number is positive , negitive or zero\n",
    "n = int(input(\"enter the number:\"))\n",
    "if n ==0:\n",
    "    print(\"zero\")\n",
    "elif n>0:\n",
    "    print(\"positive\")\n",
    "else:\n",
    "    print(\"negitive\")"
   ]
  },
  {
   "cell_type": "code",
   "execution_count": 59,
   "metadata": {},
   "outputs": [
    {
     "name": "stdout",
     "output_type": "stream",
     "text": [
      "enter the number:2013\n",
      "not leap year\n"
     ]
    }
   ],
   "source": [
    "# check the input is leap year or not\n",
    "n = int(input(\"enter the number:\"))\n",
    "if n%4 ==0:\n",
    "    print(\"leap year\")\n",
    "else:\n",
    "    print(\"not leap year\")"
   ]
  },
  {
   "cell_type": "code",
   "execution_count": 63,
   "metadata": {},
   "outputs": [
    {
     "name": "stdout",
     "output_type": "stream",
     "text": [
      "enter the number:16\n",
      "not eligible\n"
     ]
    }
   ],
   "source": [
    "# check the person is eligible to vote\n",
    "n = int(input(\"enter the number:\"))\n",
    "if n>=18:\n",
    "    print(\"eligible\")\n",
    "else:\n",
    "    print(\"not eligible\")"
   ]
  }
 ],
 "metadata": {
  "kernelspec": {
   "display_name": "Python 3",
   "language": "python",
   "name": "python3"
  },
  "language_info": {
   "codemirror_mode": {
    "name": "ipython",
    "version": 3
   },
   "file_extension": ".py",
   "mimetype": "text/x-python",
   "name": "python",
   "nbconvert_exporter": "python",
   "pygments_lexer": "ipython3",
   "version": "3.7.4"
  }
 },
 "nbformat": 4,
 "nbformat_minor": 2
}
